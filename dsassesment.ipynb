{
 "cells": [
  {
   "cell_type": "code",
   "execution_count": 5,
   "id": "633c8bd5-2dd0-45e6-b924-ed46c2a1321c",
   "metadata": {},
   "outputs": [
    {
     "name": "stdout",
     "output_type": "stream",
     "text": [
      "Reversed string: !dlroW ,olleH\n"
     ]
    }
   ],
   "source": [
    "#write a code to reverse a string\n",
    "\n",
    "def reverse_string(s):\n",
    "    return s[::-1]\n",
    "\n",
    "input_string = \"Hello, World!\"\n",
    "reversed_string = reverse_string(input_string)\n",
    "print(\"Reversed string:\", reversed_string)\n"
   ]
  },
  {
   "cell_type": "code",
   "execution_count": 3,
   "id": "70d3118d-ba7a-4539-8e69-921cf6ec7e07",
   "metadata": {},
   "outputs": [
    {
     "name": "stdout",
     "output_type": "stream",
     "text": [
      "Number of vowels: 3\n"
     ]
    }
   ],
   "source": [
    "#write a code to count the number of vowels in the string\n",
    "def count_vowels(s):\n",
    "    vowels = \"aeiouAEIOU\"\n",
    "    count = 0\n",
    "    for char in s:\n",
    "        if char in vowels:\n",
    "            count += 1\n",
    "    return count\n",
    "\n",
    "# Example usage\n",
    "input_string = \"Hello, World!\"\n",
    "vowel_count = count_vowels(input_string)\n",
    "print(\"Number of vowels:\", vowel_count)\n"
   ]
  },
  {
   "cell_type": "code",
   "execution_count": 7,
   "id": "33fdb3e6-020d-441d-a937-a974baa4276c",
   "metadata": {},
   "outputs": [
    {
     "name": "stdout",
     "output_type": "stream",
     "text": [
      "\"A man a plan a canal Panama\" is a palindrome.\n"
     ]
    }
   ],
   "source": [
    "# Write a code to check if a given string is a palindrome or not\n",
    "def is_palindrome(s):\n",
    "    # Remove spaces and convert the string to lowercase\n",
    "    s = s.replace(\" \", \"\").lower()\n",
    "    \n",
    "    # Check if the string is equal to its reverse\n",
    "    return s == s[::-1]\n",
    "\n",
    "# Example \n",
    "input_string = \"A man a plan a canal Panama\"\n",
    "if is_palindrome(input_string):\n",
    "    print(f'\"{input_string}\" is a palindrome.')\n",
    "else:\n",
    "    print(f'\"{input_string}\" is not a palindrome.')\n"
   ]
  },
  {
   "cell_type": "code",
   "execution_count": 9,
   "id": "f313ebb4-13ee-42b7-8d72-7931bb48a7f2",
   "metadata": {},
   "outputs": [
    {
     "name": "stdout",
     "output_type": "stream",
     "text": [
      "\"listen\" and \"silent\" are anagrams.\n"
     ]
    }
   ],
   "source": [
    "#Write a code to check if two given strings are anagrams of each other\n",
    "def are_anagrams(str1, str2):\n",
    "    # Remove spaces and convert both strings to lowercase\n",
    "    str1 = str1.replace(\" \", \"\").lower()\n",
    "    str2 = str2.replace(\" \", \"\").lower()\n",
    "\n",
    "    # If the lengths are not equal, they can't be anagrams\n",
    "    if len(str1) != len(str2):\n",
    "        return False\n",
    "\n",
    "    # Create dictionaries to count the frequency of each character\n",
    "    char_count1 = {}\n",
    "    char_count2 = {}\n",
    "\n",
    "    # Count characters in str1 using a for loop\n",
    "    for char in str1:\n",
    "        if char in char_count1:\n",
    "            char_count1[char] += 1\n",
    "        else:\n",
    "            char_count1[char] = 1\n",
    "\n",
    "    # Count characters in str2 using a for loop\n",
    "    for char in str2:\n",
    "        if char in char_count2:\n",
    "            char_count2[char] += 1\n",
    "        else:\n",
    "            char_count2[char] = 1\n",
    "\n",
    "    # Compare the characters in both strings\n",
    "    return char_count1 == char_count2\n",
    "\n",
    "string1 = \"listen\"\n",
    "string2 = \"silent\"\n",
    "\n",
    "if are_anagrams(string1, string2):\n",
    "    print(f'\"{string1}\" and \"{string2}\" are anagrams.')\n",
    "else:\n",
    "    print(f'\"{string1}\" and \"{string2}\" are not anagrams.')\n"
   ]
  },
  {
   "cell_type": "code",
   "execution_count": 17,
   "id": "8f0952e7-c8b3-44f8-90dd-514f47bf2fc9",
   "metadata": {},
   "outputs": [
    {
     "name": "stdout",
     "output_type": "stream",
     "text": [
      "Substring \"ana\" found at positions: [1, 3]\n"
     ]
    }
   ],
   "source": [
    "#Write a code to find all occurrences of a given substring within another string\n",
    "def find_occurrences(main_str, sub_str):\n",
    "    occurrences = []\n",
    "    sub_len = len(sub_str)\n",
    "    \n",
    "    # Loop through the main string\n",
    "    for i in range(len(main_str) - sub_len + 1):\n",
    "        # Check if the substring matches the current slice of the main string\n",
    "        if main_str[i:i + sub_len] == sub_str:\n",
    "            occurrences.append(i)\n",
    "    \n",
    "    return occurrences\n",
    "\n",
    "# Example\n",
    "main_string = \"banana\"\n",
    "substring = \"ana\"\n",
    "\n",
    "positions = find_occurrences(main_string, substring)\n",
    "if positions:\n",
    "    print(f'Substring \"{substring}\" found at positions: {positions}')\n",
    "else:\n",
    "    print(f'Substring \"{substring}\" not found.')\n"
   ]
  },
  {
   "cell_type": "code",
   "execution_count": 19,
   "id": "f13d0948-7dc2-486c-954f-cfc5bf7e16a1",
   "metadata": {},
   "outputs": [
    {
     "name": "stdout",
     "output_type": "stream",
     "text": [
      "Compressed string: a2b1c5a3\n"
     ]
    }
   ],
   "source": [
    "#Write a code to perform basic string compression using the counts of repeated characters\n",
    "def compress_string(s):\n",
    "    compressed = \"\"\n",
    "    count = 1\n",
    "\n",
    "    # Loop through the string\n",
    "    for i in range(1, len(s)):\n",
    "        if s[i] == s[i - 1]:\n",
    "            count += 1\n",
    "        else:\n",
    "            compressed += s[i - 1] + str(count)\n",
    "            count = 1  # Reset count for new character\n",
    "\n",
    "    # Append the last character and its count\n",
    "    compressed += s[-1] + str(count)\n",
    "\n",
    "    # Return the compressed string only if it's shorter, otherwise return the original string\n",
    "    return compressed if len(compressed) < len(s) else s\n",
    "\n",
    "# Example usage\n",
    "input_string = \"aabcccccaaa\"\n",
    "compressed_string = compress_string(input_string)\n",
    "print(\"Compressed string:\", compressed_string)\n"
   ]
  },
  {
   "cell_type": "code",
   "execution_count": 21,
   "id": "03a918bf-3d8f-4507-abfb-76178b57f5c7",
   "metadata": {},
   "outputs": [
    {
     "name": "stdout",
     "output_type": "stream",
     "text": [
      "True\n",
      "False\n"
     ]
    }
   ],
   "source": [
    "#Write a code to determine if a string has all unique characters\n",
    "def has_unique_chars(string):\n",
    "    char_set = set()\n",
    "    \n",
    "    for char in string:\n",
    "        if char in char_set:\n",
    "            return False\n",
    "        char_set.add(char)\n",
    "    return True\n",
    "\n",
    "# Test\n",
    "test_string = \"abcdefg\"\n",
    "print(has_unique_chars(test_string))  # Output: True\n",
    "\n",
    "test_string = \"hello\"\n",
    "print(has_unique_chars(test_string))  # Output: False\n"
   ]
  },
  {
   "cell_type": "code",
   "execution_count": 23,
   "id": "4172a783-c0fc-4486-923a-da5874d938cb",
   "metadata": {},
   "outputs": [
    {
     "name": "stdout",
     "output_type": "stream",
     "text": [
      "HELLO WORLD!\n",
      "hello world!\n"
     ]
    }
   ],
   "source": [
    "#Write a code to convert a given string to uppercase or lowercase\n",
    "def convert_case(string, to_upper=True):\n",
    "    if to_upper:\n",
    "        # Convert the string to uppercase\n",
    "        return string.upper()\n",
    "    else:\n",
    "        # Convert the string to lowercase\n",
    "        return string.lower()\n",
    "\n",
    "# Test \n",
    "test_string = \"Hello World!\"\n",
    "\n",
    "# Convert to uppercase\n",
    "print(convert_case(test_string, to_upper=True))  # Output: \"HELLO WORLD!\"\n",
    "\n",
    "# Convert to lowercase\n",
    "print(convert_case(test_string, to_upper=False))  # Output: \"hello world!\"\n"
   ]
  },
  {
   "cell_type": "code",
   "execution_count": 27,
   "id": "cb6b5388-06a8-4617-9a6d-cebffb573f79",
   "metadata": {},
   "outputs": [
    {
     "name": "stdout",
     "output_type": "stream",
     "text": [
      "3\n"
     ]
    }
   ],
   "source": [
    "#Write a code to count the number of words in a string\n",
    "a=\"hi hello teja\"\n",
    "b=a.split()\n",
    "print(len(b))"
   ]
  },
  {
   "cell_type": "code",
   "execution_count": 37,
   "id": "e9c1b337-a36d-42d8-a0f1-0e5fdd6d6a56",
   "metadata": {},
   "outputs": [
    {
     "name": "stdout",
     "output_type": "stream",
     "text": [
      "HelloWorld\n"
     ]
    }
   ],
   "source": [
    "#Write a code to concatenate two strings without using the + operator\n",
    "def concatenate_strings(string1, string2):\n",
    "    return \"{}{}\".format(string1, string2)\n",
    "str1 = \"Hello\"\n",
    "str2 = \"World\"\n",
    "print(concatenate_strings(str1, str2))  # Output: HelloWorld\n"
   ]
  },
  {
   "cell_type": "code",
   "execution_count": 39,
   "id": "692add1e-844b-429d-85f2-695f6a631f01",
   "metadata": {},
   "outputs": [
    {
     "name": "stdout",
     "output_type": "stream",
     "text": [
      "[1, 3, 4, 5]\n"
     ]
    }
   ],
   "source": [
    "#Write a code to remove all occurrences of a specific element from a list\n",
    "def remove_occurrences(lst, element):\n",
    "    return [item for item in lst if item != element]\n",
    "test_list = [1, 2, 3, 4, 2, 5, 2]\n",
    "element_to_remove = 2\n",
    "\n",
    "result = remove_occurrences(test_list, element_to_remove)\n",
    "print(result)  # Output: [1, 3, 4, 5]\n"
   ]
  },
  {
   "cell_type": "code",
   "execution_count": 54,
   "id": "e110ecaa-3b09-4df4-8e55-7646de2db5da",
   "metadata": {},
   "outputs": [
    {
     "name": "stdout",
     "output_type": "stream",
     "text": [
      "20\n"
     ]
    }
   ],
   "source": [
    "#Implement a code to find the second largest number in a given list of integers\n",
    "list = [10, 20, 4, 45, 99, 99, 20]\n",
    "list.sort()\n",
    "print(list[2])"
   ]
  },
  {
   "cell_type": "code",
   "execution_count": 56,
   "id": "e3c12f28-af5c-4d10-b546-abf3d570893e",
   "metadata": {},
   "outputs": [
    {
     "name": "stdout",
     "output_type": "stream",
     "text": [
      "{1: 2, 2: 2, 3: 1, 4: 3, 5: 1}\n"
     ]
    }
   ],
   "source": [
    "#Create a code to count the occurrences of each element in a list and return a dictionary with elements as keys and their counts as values \n",
    "def count_occurrences(lst):\n",
    "    # Create an empty dictionary to store the counts\n",
    "    counts = {}\n",
    "    for element in lst:\n",
    "        if element in counts:\n",
    "            counts[element] += 1\n",
    "        else:\n",
    "            counts[element] = 1\n",
    "    \n",
    "    return counts\n",
    "test_list = [1, 2, 2, 3, 4, 4, 4, 5, 1]\n",
    "result = count_occurrences(test_list)\n",
    "print(result)  # Output: {1: 2, 2: 2, 3: 1, 4: 3, 5: 1}\n"
   ]
  },
  {
   "cell_type": "code",
   "execution_count": 58,
   "id": "cf00ce1d-2ddb-4578-a456-5ebb3deecc68",
   "metadata": {},
   "outputs": [
    {
     "name": "stdout",
     "output_type": "stream",
     "text": [
      "[5, 4, 3, 2, 1]\n"
     ]
    }
   ],
   "source": [
    "#Write a code to reverse a list in-place without using any built-in reverse functions\n",
    "def reverse_list(lst):\n",
    "    for i in range(len(lst) // 2):\n",
    "        temp = lst[i]\n",
    "        lst[i] = lst[-(i + 1)]\n",
    "        lst[-(i + 1)] = temp\n",
    "\n",
    "test_list = [1, 2, 3, 4, 5]\n",
    "reverse_list(test_list)\n",
    "print(test_list)  # Output: [5, 4, 3, 2, 1]\n"
   ]
  },
  {
   "cell_type": "code",
   "execution_count": 60,
   "id": "e0bde704-e47a-4ee5-9305-e4d8d9ec83b5",
   "metadata": {},
   "outputs": [
    {
     "name": "stdout",
     "output_type": "stream",
     "text": [
      "[1, 2, 3, 4, 5]\n"
     ]
    }
   ],
   "source": [
    "#Implement a code to find and remove duplicates from a list while preserving the original order of elements\n",
    "def remove_duplicates(lst):\n",
    "    seen = set() \n",
    "    result = []   \n",
    "    \n",
    "    for item in lst:\n",
    "        if item not in seen:\n",
    "            result.append(item)\n",
    "            seen.add(item) \n",
    "    \n",
    "    return result\n",
    "   \n",
    "test_list = [1, 2, 2, 3, 4, 4, 5, 1]\n",
    "result = remove_duplicates(test_list)\n",
    "print(result)  # Output: [1, 2, 3, 4, 5]\n"
   ]
  },
  {
   "cell_type": "code",
   "execution_count": 62,
   "id": "62ea956a-ee3e-453e-b528-126be3bf643a",
   "metadata": {},
   "outputs": [
    {
     "name": "stdout",
     "output_type": "stream",
     "text": [
      "True\n",
      "True\n",
      "False\n"
     ]
    }
   ],
   "source": [
    "#Create a code to check if a given list is sorted (either in ascending or descending order) or not\n",
    "def is_sorted(lst):\n",
    "    ascending = True\n",
    "    descending = True\n",
    "\n",
    "    for i in range(len(lst) - 1):\n",
    "        if lst[i] > lst[i + 1]:\n",
    "            ascending = False\n",
    "        if lst[i] < lst[i + 1]:\n",
    "            descending = False\n",
    "    \n",
    "    return ascending or descending\n",
    "\n",
    "test_list = [1, 2, 3, 4, 5]\n",
    "print(is_sorted(test_list))  # Output: True (ascending)\n",
    "\n",
    "test_list = [5, 4, 3, 2, 1]\n",
    "print(is_sorted(test_list))  # Output: True (descending)\n",
    "\n",
    "test_list = [3, 1, 4, 2]\n",
    "print(is_sorted(test_list))  # Output: False (not sorted)\n"
   ]
  },
  {
   "cell_type": "code",
   "execution_count": 82,
   "id": "1e4df4ce-c253-4e93-af9c-5793b424aa51",
   "metadata": {},
   "outputs": [
    {
     "name": "stdout",
     "output_type": "stream",
     "text": [
      "[1, 2, 3, 4, 5, 6, 7, 8]\n"
     ]
    }
   ],
   "source": [
    "#Write a code to merge two sorted lists into a single sorted list\n",
    "l1 = [1, 3, 5, 7]\n",
    "l2 = [2, 4, 6, 8]\n",
    "l3=l1+l2\n",
    "l3.sort()\n",
    "print(l3)"
   ]
  },
  {
   "cell_type": "code",
   "execution_count": 93,
   "id": "9de000db-5e76-475d-8a15-c31d5e66bb72",
   "metadata": {},
   "outputs": [
    {
     "name": "stdout",
     "output_type": "stream",
     "text": [
      "[4, 5]\n"
     ]
    }
   ],
   "source": [
    "#Implement a code to find the intersection of two given lists\n",
    "def list_intersection(list1, list2):\n",
    "    result = []\n",
    "    for item in list1:\n",
    "        if item in list2:\n",
    "            result.append(item)\n",
    "    return result\n",
    "\n",
    "list1 = [1, 2, 3, 4, 5]\n",
    "list2 = [4, 5, 6, 7, 8]\n",
    "result = list_intersection(list1, list2)\n",
    "print(result)  # Output: [4, 5]\n",
    "\n"
   ]
  },
  {
   "cell_type": "code",
   "execution_count": 107,
   "id": "df57e8e4-5fdb-4105-b140-40ba2e804542",
   "metadata": {},
   "outputs": [
    {
     "name": "stdout",
     "output_type": "stream",
     "text": [
      "{1, 2, 3, 4, 5, 6, 7, 8}\n"
     ]
    }
   ],
   "source": [
    "#Create a code to find the union of two lists without duplicates\n",
    "def list_union(list1, list2):\n",
    "    return set(list1).union(set(list2))\n",
    "\n",
    "list1 = [1, 2, 3, 4, 5]\n",
    "list2 = [4, 5, 6, 7, 8]\n",
    "result = list_union(list1, list2)\n",
    "print(result)  # Output: [1, 2, 3, 4, 5, 6, 7, 8]\n"
   ]
  },
  {
   "cell_type": "code",
   "execution_count": 111,
   "id": "899f98c6-bf25-4d6e-97fd-623dcd676961",
   "metadata": {},
   "outputs": [
    {
     "name": "stdin",
     "output_type": "stream",
     "text": [
      "Enter the first set of integers (separated by commas):  2,3,5\n",
      "Enter the second set of integers (separated by commas):  1,2,8\n"
     ]
    },
    {
     "name": "stdout",
     "output_type": "stream",
     "text": [
      "Intersection: {2}\n"
     ]
    }
   ],
   "source": [
    "#Create a code that prompts the user to enter two sets of integers separated by commas. Then, print the intersection of these two sets\n",
    "def get_intersection():\n",
    "    set1_input = input(\"Enter the first set of integers (separated by commas): \")\n",
    "    set2_input = input(\"Enter the second set of integers (separated by commas): \")\n",
    "\n",
    "    # Convert input strings to sets of integers\n",
    "    set1 = set(map(int, set1_input.split(',')))\n",
    "    set2 = set(map(int, set2_input.split(',')))\n",
    "\n",
    "    # Find and print the intersection\n",
    "    intersection = set1 & set2\n",
    "    print(\"Intersection:\", intersection)\n",
    "\n",
    "# Run the function\n",
    "get_intersection()\n"
   ]
  },
  {
   "cell_type": "code",
   "execution_count": null,
   "id": "5231db86-69c9-40b5-9670-40ef9e886a21",
   "metadata": {},
   "outputs": [],
   "source": [
    "#Write a code to concatenate two tuples. The function should take two tuples as input and return a new tuple containing elements from both input tuples\n",
    "def concatenate_tuples(tuple1, tuple2):\n",
    "    # Concatenate the two tuples\n",
    "    result = tuple1 + tuple2\n",
    "    return result\n",
    "\n",
    "# Test the function\n",
    "tuple1 = (1, 2, 3)\n",
    "tuple2 = (4, 5, 6)\n",
    "result = concatenate_tuples(tuple1, tuple2)\n",
    "print(result)  # Output: (1, 2, 3, 4, 5, 6)\n"
   ]
  },
  {
   "cell_type": "code",
   "execution_count": 3,
   "id": "972777c6-b520-475e-a0a0-a9b284d66b89",
   "metadata": {},
   "outputs": [
    {
     "name": "stdin",
     "output_type": "stream",
     "text": [
      "Enter the first set of strings (separated by commas):  {1,2,4}\n",
      "Enter the second set of strings (separated by commas):  {2,3,4}\n"
     ]
    },
    {
     "name": "stdout",
     "output_type": "stream",
     "text": [
      "Elements present in the first set but not in the second set: {'2', '{1'}\n"
     ]
    }
   ],
   "source": [
    "#Develop a code that prompts the user to input two sets of strings. Then, print the elements that are present in the first set but not in the second set\n",
    "def difference_of_sets():\n",
    "    set1_input = input(\"Enter the first set of strings (separated by commas): \")\n",
    "    set2_input = input(\"Enter the second set of strings (separated by commas): \")\n",
    "\n",
    "    # Convert input strings to sets of strings\n",
    "    set1 = set(set1_input.split(','))\n",
    "    set2 = set(set2_input.split(','))\n",
    "\n",
    "    # Find elements in set1 that are not in set2\n",
    "    difference = set1 - set2\n",
    "\n",
    "    # Print the result\n",
    "    print(\"Elements present in the first set but not in the second set:\", difference)\n",
    "\n",
    "# Run the function\n",
    "difference_of_sets()\n"
   ]
  },
  {
   "cell_type": "code",
   "execution_count": 5,
   "id": "9ccc1e87-2023-45f8-a343-fd3488ad56df",
   "metadata": {},
   "outputs": [
    {
     "name": "stdout",
     "output_type": "stream",
     "text": [
      "New tuple: (30, 40, 50)\n"
     ]
    }
   ],
   "source": [
    "#Create a code that takes a tuple and two integers as input. The function should return a new tuple containing elements from the original tuple within the specified range of indices\n",
    "def slice_tuple(original_tuple, start_index, end_index):\n",
    "    return original_tuple[start_index:end_index]\n",
    "\n",
    "numbers = (10, 20, 30, 40, 50, 60, 70, 80)\n",
    "start = 2\n",
    "end = 5\n",
    "\n",
    "new_tuple = slice_tuple(numbers, start, end)\n",
    "print(f\"New tuple: {new_tuple}\")\n",
    "\n"
   ]
  },
  {
   "cell_type": "code",
   "execution_count": 17,
   "id": "f42baa36-97fa-4815-a927-20ea202f0e86",
   "metadata": {},
   "outputs": [
    {
     "name": "stdin",
     "output_type": "stream",
     "text": [
      "Enter the first set of characters (without spaces):  adcv\n",
      "Enter the second set of characters (without spaces):  advb\n"
     ]
    },
    {
     "name": "stdout",
     "output_type": "stream",
     "text": [
      "Union of the two sets: {'v', 'b', 'd', 'a', 'c'}\n"
     ]
    }
   ],
   "source": [
    "#Write a code that prompts the user to input two sets of characters. Then, print the union of these two sets\n",
    "def input_and_union_sets():\n",
    "    set1 = set(input(\"Enter the first set of characters (without spaces): \"))\n",
    "    set2 = set(input(\"Enter the second set of characters (without spaces): \"))\n",
    "\n",
    "    union_set = set1.union(set2)\n",
    "    print(f\"Union of the two sets: {union_set}\")\n",
    "\n",
    "input_and_union_sets()\n"
   ]
  },
  {
   "cell_type": "code",
   "execution_count": 1,
   "id": "2db394eb-eb2b-4fad-bf24-a5e945a2368d",
   "metadata": {},
   "outputs": [
    {
     "name": "stdout",
     "output_type": "stream",
     "text": [
      "Minimum value: -5, Maximum value: 56\n"
     ]
    }
   ],
   "source": [
    "#Develop a code that takes a tuple of integers as input. The function should return the maximum and minimum values from the tuple using tuple unpacking\n",
    "def find_min_max(numbers):\n",
    "    min_val, max_val = numbers[0], numbers[0]\n",
    "    for num in numbers[1:]:\n",
    "        if num < min_val:\n",
    "            min_val = num\n",
    "        if num > max_val:\n",
    "            max_val = num\n",
    "    \n",
    "    return min_val, max_val\n",
    "numbers = (10, 4, 23, 56, 1, -5, 34)\n",
    "min_value, max_value = find_min_max(numbers)\n",
    "print(f\"Minimum value: {min_value}, Maximum value: {max_value}\")\n"
   ]
  },
  {
   "cell_type": "code",
   "execution_count": null,
   "id": "3c4b3019-447a-466f-872a-219204fd53e7",
   "metadata": {},
   "outputs": [],
   "source": [
    "#write a code to shuffle a given list randomly  without using any builtin random functions\n",
    "def shuffle_list(lst):\n",
    "    n = len(lst)\n",
    "    for i in range(n - 1, 0, -1):\n",
    "        j = (i * (i + 7)) % n\n",
    "\n",
    "        # Swapping\n",
    "        lst[i], lst[j] = lst[j], lst[i]\n",
    "\n",
    "    return lst\n",
    "my_list = [1, 2, 3, 4, 5, 6, 7, 8]\n",
    "shuffled_list = shuffle_list(my_list.copy())  # Copy to avoid modifying original list\n",
    "print(f\"Shuffled list: {shuffled_list}\")\n"
   ]
  },
  {
   "cell_type": "code",
   "execution_count": 19,
   "id": "74cf9259-518b-473d-943b-977715be745b",
   "metadata": {},
   "outputs": [
    {
     "name": "stdout",
     "output_type": "stream",
     "text": [
      "Set 1: {1, 2, 3, 4, 5}\n",
      "Set 2: {4, 5, 6, 7, 8}\n",
      "Union: {1, 2, 3, 4, 5, 6, 7, 8}\n",
      "Intersection: {4, 5}\n",
      "Difference (Set 1 - Set 2): {1, 2, 3}\n"
     ]
    }
   ],
   "source": [
    "#Create a code that defines two sets of integers. Then, print the union, intersection, and difference of these two sets\n",
    "set1 = {1, 2, 3, 4, 5}\n",
    "set2 = {4, 5, 6, 7, 8}\n",
    "union_set = set1.union(set2)\n",
    "intersection_set = set1.intersection(set2)\n",
    "difference_set = set1.difference(set2)\n",
    "print(f\"Set 1: {set1}\")\n",
    "print(f\"Set 2: {set2}\")\n",
    "print(f\"Union: {union_set}\")\n",
    "print(f\"Intersection: {intersection_set}\")\n",
    "print(f\"Difference (Set 1 - Set 2): {difference_set}\")\n"
   ]
  },
  {
   "cell_type": "code",
   "execution_count": 21,
   "id": "de211b61-8f31-4b3f-ad03-56e9baa168f3",
   "metadata": {},
   "outputs": [
    {
     "name": "stdout",
     "output_type": "stream",
     "text": [
      "The element 2 appears 3 times in the tuple.\n"
     ]
    }
   ],
   "source": [
    "#Write a code that takes a tuple and an element as input. The function should return the count of occurrences of the given element in the tuple\n",
    "def count_element_in_tuple(input_tuple, element):\n",
    "    return input_tuple.count(element)\n",
    "numbers = (1, 2, 3, 4, 2, 5, 2, 6)\n",
    "element = 2\n",
    "\n",
    "count = count_element_in_tuple(numbers, element)\n",
    "print(f\"The element {element} appears {count} times in the tuple.\")\n"
   ]
  },
  {
   "cell_type": "code",
   "execution_count": null,
   "id": "af4beb54-c74f-46bb-8304-3c1dd62ec030",
   "metadata": {},
   "outputs": [],
   "source": [
    "#30Develop a code that prompts the user to input two sets of strings. Then, print the symmetric difference of these two sets\n",
    "def input_and_symmetric_difference():\n",
    "    set1 = set(input(\"Enter the first set of strings (separate by spaces): \").split())\n",
    "    set2 = set(input(\"Enter the second set of strings (separate by spaces): \").split())\n",
    "    sym_diff_set = set1.symmetric_difference(set2)\n",
    "\n",
    "    print(f\"Symmetric difference: {sym_diff_set}\")\n",
    "input_and_symmetric_difference()\n"
   ]
  },
  {
   "cell_type": "code",
   "execution_count": 23,
   "id": "d1848fda-52f1-46ce-8410-7342878d3224",
   "metadata": {},
   "outputs": [
    {
     "name": "stdin",
     "output_type": "stream",
     "text": [
      "Enter a list of words separated by spaces:  a v a b n n n m\n"
     ]
    },
    {
     "name": "stdout",
     "output_type": "stream",
     "text": [
      "Word frequencies: {'a': 2, 'v': 1, 'b': 1, 'n': 3, 'm': 1}\n"
     ]
    }
   ],
   "source": [
    "#Write a code that takes a list of words as input and returns a dictionary where the keys are unique words and the values are the frequencies of those words in the input list\n",
    "def word_frequencies(word_list):\n",
    "    frequency_dict = {}\n",
    "    for word in word_list:\n",
    "        if word in frequency_dict:\n",
    "            frequency_dict[word] += 1\n",
    "        else:\n",
    "            frequency_dict[word] = 1\n",
    "\n",
    "    return frequency_dict\n",
    "words = input(\"Enter a list of words separated by spaces: \").split()\n",
    "\n",
    "word_count = word_frequencies(words)\n",
    "print(f\"Word frequencies: {word_count}\")\n"
   ]
  },
  {
   "cell_type": "code",
   "execution_count": 25,
   "id": "f162bd14-a4b1-4bed-90d7-8319aa928959",
   "metadata": {},
   "outputs": [
    {
     "name": "stdout",
     "output_type": "stream",
     "text": [
      "Merged dictionary: {'apple': 3, 'banana': 3, 'orange': 3, 'pear': 4}\n"
     ]
    }
   ],
   "source": [
    "#Write a code that takes two dictionaries as input and merges them into a single dictionary. If there are common keys, the values should be added together\n",
    "def merge_dictionaries(dict1, dict2):\n",
    "    merged_dict = dict1.copy()\n",
    "    for key, value in dict2.items():\n",
    "        if key in merged_dict:\n",
    "            merged_dict[key] += value\n",
    "        else:\n",
    "            merged_dict[key] = value\n",
    "\n",
    "    return merged_dict\n",
    "dict1 = {'apple': 3, 'banana': 2, 'orange': 1}\n",
    "dict2 = {'banana': 1, 'pear': 4, 'orange': 2}\n",
    "\n",
    "merged_dict = merge_dictionaries(dict1, dict2)\n",
    "print(f\"Merged dictionary: {merged_dict}\")\n"
   ]
  },
  {
   "cell_type": "code",
   "execution_count": null,
   "id": "464365dc-c9fd-4fb0-8678-d1d0f3cf6d3e",
   "metadata": {},
   "outputs": [],
   "source": [
    "#Write a code to access a value in a nested dictionary. The function should take the dictionary and a list of keys as input, and return the corresponding value. If any of the keys do not exist in the dictionary, the function should return None\n",
    "def get_nested_value(nested_dict, keys):\n",
    "    # Start with the input dictionary\n",
    "    current_value = nested_dict\n",
    "    \n",
    "    # Iterate over the list of keys\n",
    "    for key in keys:\n",
    "        # Check if the key exists in the current level of the dictionary\n",
    "        if key in current_value:\n",
    "            current_value = current_value[key]\n",
    "        else:\n",
    "            # If any key is missing, return None\n",
    "            return None\n",
    "    \n",
    "    # Return the final value if all keys exist\n",
    "    return current_value\n",
    "\n",
    "# Example usage\n",
    "nested_dict = {\n",
    "    'a': {\n",
    "        'b': {\n",
    "            'c': 42\n",
    "        },\n",
    "        'd': 7\n",
    "    }\n",
    "}\n",
    "\n",
    "keys = ['a', 'b', 'c']\n",
    "result = get_nested_value(nested_dict, keys)\n",
    "print(f\"Value for keys {keys}: {result}\")  # Output: 42\n",
    "\n",
    "keys_missing = ['a', 'x', 'y']\n",
    "result_missing = get_nested_value(nested_dict, keys_missing)\n",
    "print(f\"Value for keys {keys_missing}: {result_missing}\")  # Output: None\n"
   ]
  },
  {
   "cell_type": "code",
   "execution_count": 27,
   "id": "a16b2621-ee97-4d65-b247-ca1f174a1ff2",
   "metadata": {},
   "outputs": [
    {
     "name": "stdout",
     "output_type": "stream",
     "text": [
      "Sorted dictionary (ascending): {'banana': 1, 'orange': 2, 'apple': 3, 'pear': 5}\n",
      "Sorted dictionary (descending): {'pear': 5, 'apple': 3, 'orange': 2, 'banana': 1}\n"
     ]
    }
   ],
   "source": [
    "#Write a code that takes a dictionary as input and returns a sorted version of it based on the values. You can choose whether to sort in ascending or descending order\n",
    "def sort_dictionary_by_values(input_dict, ascending=True):\n",
    "    sorted_dict = dict(sorted(input_dict.items(), key=lambda item: item[1], reverse=not ascending))\n",
    "    return sorted_dict\n",
    "example_dict = {'apple': 3, 'banana': 1, 'orange': 2, 'pear': 5}\n",
    "sorted_dict_asc = sort_dictionary_by_values(example_dict, ascending=True)\n",
    "print(f\"Sorted dictionary (ascending): {sorted_dict_asc}\")\n",
    "sorted_dict_desc = sort_dictionary_by_values(example_dict, ascending=False)\n",
    "print(f\"Sorted dictionary (descending): {sorted_dict_desc}\")\n",
    "\n"
   ]
  },
  {
   "cell_type": "code",
   "execution_count": null,
   "id": "eeeee4b2-e35c-4ee1-9490-3063e6322fe2",
   "metadata": {},
   "outputs": [],
   "source": [
    "#Write a code that inverts a dictionary, swapping keys and values. Ensure that the inverted dictionary \n",
    "correctly handles cases where multiple keys have the same value by storing the keys as a list in the  inverted dictionary.\n",
    "def invert_dictionary(original_dict):\n",
    "    inverted_dict = {}\n",
    "    for key, value in original_dict.items():\n",
    "        # If the value is already a key in the inverted dictionary, append the current key to the list\n",
    "        if value in inverted_dict:\n",
    "            inverted_dict[value].append(key)\n",
    "        else:\n",
    "            # Otherwise, create a new list with the current key\n",
    "            inverted_dict[value] = [key]\n",
    "\n",
    "    return inverted_dict\n",
    "original_dict = {'a': 1, 'b': 2, 'c': 1, 'd': 3}\n",
    "\n",
    "inverted_dict = invert_dictionary(original_dict)\n",
    "print(f\"Inverted dictionary: {inverted_dict}\")"
   ]
  }
 ],
 "metadata": {
  "kernelspec": {
   "display_name": "Python 3 (ipykernel)",
   "language": "python",
   "name": "python3"
  },
  "language_info": {
   "codemirror_mode": {
    "name": "ipython",
    "version": 3
   },
   "file_extension": ".py",
   "mimetype": "text/x-python",
   "name": "python",
   "nbconvert_exporter": "python",
   "pygments_lexer": "ipython3",
   "version": "3.12.4"
  }
 },
 "nbformat": 4,
 "nbformat_minor": 5
}
